{
  "nbformat": 4,
  "nbformat_minor": 0,
  "metadata": {
    "colab": {
      "name": "505_HW1_234.ipynb",
      "provenance": [],
      "collapsed_sections": []
    },
    "kernelspec": {
      "name": "python3",
      "display_name": "Python 3"
    },
    "language_info": {
      "name": "python"
    }
  },
  "cells": [
    {
      "cell_type": "markdown",
      "source": [
        "**Q2**"
      ],
      "metadata": {
        "id": "xsSMJzBTf_De"
      }
    },
    {
      "cell_type": "code",
      "execution_count": 1,
      "metadata": {
        "colab": {
          "base_uri": "https://localhost:8080/",
          "height": 0
        },
        "id": "vga1tZOoE2lu",
        "outputId": "46681524-0a0e-42fc-8042-73362c51b923"
      },
      "outputs": [
        {
          "output_type": "stream",
          "name": "stdout",
          "text": [
            "0.2500789106146239\n"
          ]
        }
      ],
      "source": [
        "import numpy as np\n",
        "\n",
        "n = 100000  # sample size\n",
        "x = np.random.uniform(0,1,size=n)  # numpy array of uniform random numbers\n",
        "y = np.random.uniform(0,1,size=n)\n",
        "gg = x * y  # integrand\n",
        "theta_hat = np.mean(gg)  # MC estimate of the integral\n",
        "print(theta_hat)"
      ]
    },
    {
      "cell_type": "markdown",
      "source": [
        "**Q3**"
      ],
      "metadata": {
        "id": "WcC7SG9ogD5F"
      }
    },
    {
      "cell_type": "code",
      "source": [
        "n = 100000  # sample size\n",
        "x = np.random.uniform(1,2,size=n)  # numpy array of uniform random numbers\n",
        "Cov = np.mean(x-x**2) - np.mean(x) * np.mean(1-x)  # MC estimate of the covariance\n",
        "Var = np.mean((1-x)**2) - (np.mean(1-x))**2  # MC estimate of the variance\n",
        "print(Cov)\n",
        "print(Var)"
      ],
      "metadata": {
        "colab": {
          "base_uri": "https://localhost:8080/",
          "height": 0
        },
        "id": "1hIu_UuaFX1V",
        "outputId": "4728cc69-e38a-4264-b8dc-955143d0278b"
      },
      "execution_count": 2,
      "outputs": [
        {
          "output_type": "stream",
          "name": "stdout",
          "text": [
            "-0.08366779629306886\n",
            "0.08366779629306897\n"
          ]
        }
      ]
    },
    {
      "cell_type": "markdown",
      "source": [
        "**Q4**"
      ],
      "metadata": {
        "id": "I8vlPoJegG9N"
      }
    },
    {
      "cell_type": "code",
      "source": [
        "n = 100000  # sample size\n",
        "u1 = np.random.uniform(0,1,size=n)  # numpy array of uniform random numbers\n",
        "u2 = np.random.uniform(0,1,size=n)\n",
        "x = [min(x,y) for (x,y) in zip(u1,u2)]\n",
        "mu = np.mean(x)  #   # MC estimate of the mean\n",
        "prob = sum(i>0.5 for i in x) / len(x)  # MC estimate of the probability\n",
        "print(miu)\n",
        "print(prob)"
      ],
      "metadata": {
        "colab": {
          "base_uri": "https://localhost:8080/",
          "height": 0
        },
        "id": "l73M7cjAFa-k",
        "outputId": "e9cb4762-1dd0-40a0-9926-171f18d687e4"
      },
      "execution_count": 3,
      "outputs": [
        {
          "output_type": "stream",
          "name": "stdout",
          "text": [
            "0.3334476988585502\n",
            "0.25003\n"
          ]
        }
      ]
    }
  ]
}
